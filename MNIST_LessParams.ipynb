{
  "nbformat": 4,
  "nbformat_minor": 0,
  "metadata": {
    "colab": {
      "name": "MNIST_LessParams.ipynb",
      "provenance": [],
      "collapsed_sections": [],
      "authorship_tag": "ABX9TyP3e/nrQRE+l9CCLLSSmOhw",
      "include_colab_link": true
    },
    "kernelspec": {
      "name": "python3",
      "display_name": "Python 3"
    }
  },
  "cells": [
    {
      "cell_type": "markdown",
      "metadata": {
        "id": "view-in-github",
        "colab_type": "text"
      },
      "source": [
        "<a href=\"https://colab.research.google.com/github/isparekh/MNIST_DNN/blob/master/MNIST_LessParams.ipynb\" target=\"_parent\"><img src=\"https://colab.research.google.com/assets/colab-badge.svg\" alt=\"Open In Colab\"/></a>"
      ]
    },
    {
      "cell_type": "code",
      "metadata": {
        "id": "B0NbLvIU_4Hx",
        "colab_type": "code",
        "colab": {}
      },
      "source": [
        "import numpy as np\n",
        "import matplotlib.pyplot as plt"
      ],
      "execution_count": 0,
      "outputs": []
    },
    {
      "cell_type": "code",
      "metadata": {
        "id": "OORJy8FIA5vq",
        "colab_type": "code",
        "colab": {}
      },
      "source": [
        "from tensorflow import keras\n",
        "from tensorflow.keras import utils as np_utils\n",
        "from tensorflow.keras.models import Sequential, Model\n",
        "from tensorflow.keras import layers\n",
        "from tensorflow.keras.datasets import mnist"
      ],
      "execution_count": 0,
      "outputs": []
    },
    {
      "cell_type": "markdown",
      "metadata": {
        "id": "pBTZftqSlM-1",
        "colab_type": "text"
      },
      "source": [
        "\n",
        "\n",
        "```\n",
        "# Load MNIST data, reshaping and converting into binary matrices\n",
        "```\n",
        "\n"
      ]
    },
    {
      "cell_type": "code",
      "metadata": {
        "id": "s2X9FB0yu-zg",
        "colab_type": "code",
        "colab": {}
      },
      "source": [
        "def load_mnist_data():\n",
        "\n",
        "  (trainData, trainLabels), (testData, testLabels) = mnist.load_data()\n",
        "\n",
        "  trainData = trainData.reshape(train_size,img_rows,img_cols,1)\n",
        "  testData = testData.reshape(test_size,img_rows,img_cols,1)\n",
        "\n",
        "  mTrainLabels = np_utils.to_categorical(trainLabels, num_classes)\n",
        "  mTestLabels = np_utils.to_categorical(testLabels, num_classes)\n",
        "\n",
        "  return trainData, mTrainLabels, testData, mTestLabels"
      ],
      "execution_count": 0,
      "outputs": []
    },
    {
      "cell_type": "markdown",
      "metadata": {
        "id": "d8nxxyMxlbOT",
        "colab_type": "text"
      },
      "source": [
        "\n",
        "\n",
        "```\n",
        "# Creating and compiling the model for MNIST digits\n",
        "```\n",
        "\n"
      ]
    },
    {
      "cell_type": "code",
      "metadata": {
        "id": "aU7Upq6abyit",
        "colab_type": "code",
        "colab": {}
      },
      "source": [
        "def mnist_model():\n",
        "    model = Sequential()\n",
        "        \n",
        "    input_nn=layers.Input(shape=(img_rows,img_cols,1), name='image')\n",
        "    mnistLay1=layers.Conv2D(2,kernel_size=(1,1),activation='relu',padding='same')(input_nn)\n",
        "    mnistLay1=layers.Conv2D(2,kernel_size=(3,3),strides=(2,2),activation='relu',padding='same')(mnistLay1)\n",
        "    mnistLay1=layers.Conv2D(2,kernel_size=(1,1),activation='relu',padding='same')(mnistLay1)\n",
        "    mnistLay1=layers.BatchNormalization()(mnistLay1)\n",
        "    mnistLay1=layers.MaxPooling2D(pool_size=(2,2),strides=(2,2),padding='same')(mnistLay1)\n",
        "    mnistLay1=layers.Dropout(0.25)(mnistLay1)\n",
        "\n",
        "    mnistLay2=layers.Conv2D(4,kernel_size=(1,1),activation='relu',padding='same')(input_nn)\n",
        "    mnistLay2=layers.Conv2D(4,kernel_size=(3,3),strides=(2,2),activation='relu',padding='same')(mnistLay2)\n",
        "    mnistLay2=layers.Conv2D(4,kernel_size=(1,1),activation='relu',padding='same')(mnistLay2)\n",
        "    mnistLay2=layers.BatchNormalization()(mnistLay2)\n",
        "    mnistLay2=layers.MaxPooling2D(pool_size=(2,2),strides=(2,2),padding='same')(mnistLay2)\n",
        "    mnistLay2=layers.Dropout(0.25)(mnistLay2)\n",
        "\n",
        "    mnistLay3=layers.Conv2D(6,kernel_size=(1,1),activation='relu',padding='same')(input_nn)\n",
        "    mnistLay3=layers.Conv2D(6,kernel_size=(5,5),strides=(2,2),activation='relu',padding='same')(mnistLay3)\n",
        "    mnistLay3=layers.Conv2D(6,kernel_size=(1,1),activation='relu',padding='same')(mnistLay3)\n",
        "    mnistLay3=layers.BatchNormalization()(mnistLay3)\n",
        "    mnistLay3=layers.MaxPooling2D(pool_size=(2,2),strides=(2,2),padding='same')(mnistLay3)\n",
        "    mnistLay3=layers.Dropout(0.25)(mnistLay3)\n",
        "\n",
        "    mrg=layers.concatenate([mnistLay1,mnistLay2,mnistLay3])\n",
        "\n",
        "    flatten=layers.Flatten()(mrg)\n",
        "\n",
        "    dense=layers.Dense(10,activation='relu')(flatten)\n",
        "\n",
        "    output_nn=layers.Dense(10,activation='softmax')(dense)\n",
        "\n",
        "    model=Model(inputs=input_nn, outputs=output_nn)\n",
        "\n",
        "    model.compile(optimizer=\"adam\", loss=\"categorical_crossentropy\", metrics=[\"accuracy\"])\n",
        "\n",
        "    return model\n"
      ],
      "execution_count": 0,
      "outputs": []
    },
    {
      "cell_type": "markdown",
      "metadata": {
        "id": "jxALbPrQZhaS",
        "colab_type": "text"
      },
      "source": [
        "\n",
        "\n",
        "```\n",
        "# Global settings\n",
        "```\n",
        "\n"
      ]
    },
    {
      "cell_type": "code",
      "metadata": {
        "id": "0_dSZEaWZoQD",
        "colab_type": "code",
        "colab": {}
      },
      "source": [
        "nb_epoch = 25\n",
        "num_classes = 10\n",
        "batch_size = 32\n",
        "train_size = 60000\n",
        "test_size = 10000\n",
        "img_rows, img_cols = 28, 28"
      ],
      "execution_count": 0,
      "outputs": []
    },
    {
      "cell_type": "code",
      "metadata": {
        "id": "Fej2I-DLaQ5j",
        "colab_type": "code",
        "colab": {}
      },
      "source": [
        "seed = 7\n",
        "np.random.seed(seed)"
      ],
      "execution_count": 0,
      "outputs": []
    },
    {
      "cell_type": "markdown",
      "metadata": {
        "id": "Yw7nPAfUa0d9",
        "colab_type": "text"
      },
      "source": [
        "\n",
        "\n",
        "```\n",
        "# Importing MNIST data\n",
        "```\n",
        "\n"
      ]
    },
    {
      "cell_type": "code",
      "metadata": {
        "id": "zyXI_ih1bs9F",
        "colab_type": "code",
        "colab": {}
      },
      "source": [
        "X_train, Y_train, X_test, Y_test = load_mnist_data()"
      ],
      "execution_count": 0,
      "outputs": []
    },
    {
      "cell_type": "markdown",
      "metadata": {
        "id": "ioq8MWLgcIaR",
        "colab_type": "text"
      },
      "source": [
        "\n",
        "\n",
        "```\n",
        "# Selecting a model to fit\n",
        "```\n",
        "\n"
      ]
    },
    {
      "cell_type": "code",
      "metadata": {
        "id": "krMnkCRpz5EH",
        "colab_type": "code",
        "colab": {}
      },
      "source": [
        "model = mnist_model()"
      ],
      "execution_count": 0,
      "outputs": []
    },
    {
      "cell_type": "markdown",
      "metadata": {
        "id": "q7Onb-HJcs4b",
        "colab_type": "text"
      },
      "source": [
        "\n",
        "\n",
        "```\n",
        "# Displaying model summary\n",
        "```\n",
        "\n"
      ]
    },
    {
      "cell_type": "code",
      "metadata": {
        "id": "q_sbLWkqcwsQ",
        "colab_type": "code",
        "outputId": "5f55cba4-1bef-4dd3-ba56-5cc4991c4ab0",
        "colab": {
          "base_uri": "https://localhost:8080/",
          "height": 1000
        }
      },
      "source": [
        "model.summary()"
      ],
      "execution_count": 372,
      "outputs": [
        {
          "output_type": "stream",
          "text": [
            "Model: \"model_28\"\n",
            "__________________________________________________________________________________________________\n",
            "Layer (type)                    Output Shape         Param #     Connected to                     \n",
            "==================================================================================================\n",
            "image (InputLayer)              [(None, 28, 28, 1)]  0                                            \n",
            "__________________________________________________________________________________________________\n",
            "conv2d_291 (Conv2D)             (None, 28, 28, 2)    4           image[0][0]                      \n",
            "__________________________________________________________________________________________________\n",
            "conv2d_294 (Conv2D)             (None, 28, 28, 4)    8           image[0][0]                      \n",
            "__________________________________________________________________________________________________\n",
            "conv2d_297 (Conv2D)             (None, 28, 28, 6)    12          image[0][0]                      \n",
            "__________________________________________________________________________________________________\n",
            "conv2d_292 (Conv2D)             (None, 14, 14, 2)    38          conv2d_291[0][0]                 \n",
            "__________________________________________________________________________________________________\n",
            "conv2d_295 (Conv2D)             (None, 14, 14, 4)    148         conv2d_294[0][0]                 \n",
            "__________________________________________________________________________________________________\n",
            "conv2d_298 (Conv2D)             (None, 14, 14, 6)    906         conv2d_297[0][0]                 \n",
            "__________________________________________________________________________________________________\n",
            "conv2d_293 (Conv2D)             (None, 14, 14, 2)    6           conv2d_292[0][0]                 \n",
            "__________________________________________________________________________________________________\n",
            "conv2d_296 (Conv2D)             (None, 14, 14, 4)    20          conv2d_295[0][0]                 \n",
            "__________________________________________________________________________________________________\n",
            "conv2d_299 (Conv2D)             (None, 14, 14, 6)    42          conv2d_298[0][0]                 \n",
            "__________________________________________________________________________________________________\n",
            "batch_normalization_37 (BatchNo (None, 14, 14, 2)    8           conv2d_293[0][0]                 \n",
            "__________________________________________________________________________________________________\n",
            "batch_normalization_38 (BatchNo (None, 14, 14, 4)    16          conv2d_296[0][0]                 \n",
            "__________________________________________________________________________________________________\n",
            "batch_normalization_39 (BatchNo (None, 14, 14, 6)    24          conv2d_299[0][0]                 \n",
            "__________________________________________________________________________________________________\n",
            "max_pooling2d_96 (MaxPooling2D) (None, 7, 7, 2)      0           batch_normalization_37[0][0]     \n",
            "__________________________________________________________________________________________________\n",
            "max_pooling2d_97 (MaxPooling2D) (None, 7, 7, 4)      0           batch_normalization_38[0][0]     \n",
            "__________________________________________________________________________________________________\n",
            "max_pooling2d_98 (MaxPooling2D) (None, 7, 7, 6)      0           batch_normalization_39[0][0]     \n",
            "__________________________________________________________________________________________________\n",
            "dropout_30 (Dropout)            (None, 7, 7, 2)      0           max_pooling2d_96[0][0]           \n",
            "__________________________________________________________________________________________________\n",
            "dropout_31 (Dropout)            (None, 7, 7, 4)      0           max_pooling2d_97[0][0]           \n",
            "__________________________________________________________________________________________________\n",
            "dropout_32 (Dropout)            (None, 7, 7, 6)      0           max_pooling2d_98[0][0]           \n",
            "__________________________________________________________________________________________________\n",
            "concatenate_29 (Concatenate)    (None, 7, 7, 12)     0           dropout_30[0][0]                 \n",
            "                                                                 dropout_31[0][0]                 \n",
            "                                                                 dropout_32[0][0]                 \n",
            "__________________________________________________________________________________________________\n",
            "flatten_28 (Flatten)            (None, 588)          0           concatenate_29[0][0]             \n",
            "__________________________________________________________________________________________________\n",
            "dense_56 (Dense)                (None, 10)           5890        flatten_28[0][0]                 \n",
            "__________________________________________________________________________________________________\n",
            "dense_57 (Dense)                (None, 10)           110         dense_56[0][0]                   \n",
            "==================================================================================================\n",
            "Total params: 7,232\n",
            "Trainable params: 7,208\n",
            "Non-trainable params: 24\n",
            "__________________________________________________________________________________________________\n"
          ],
          "name": "stdout"
        }
      ]
    },
    {
      "cell_type": "markdown",
      "metadata": {
        "id": "zfi4_hzyc5_4",
        "colab_type": "text"
      },
      "source": [
        "\n",
        "\n",
        "```\n",
        "# Training the model\n",
        "```\n",
        "\n"
      ]
    },
    {
      "cell_type": "code",
      "metadata": {
        "id": "qTWB-wjPc9MS",
        "colab_type": "code",
        "outputId": "e67ce38e-5338-4dbb-f2fa-9949dc6286aa",
        "colab": {
          "base_uri": "https://localhost:8080/",
          "height": 1000
        }
      },
      "source": [
        "history = model.fit(X_train, Y_train, batch_size=batch_size, epochs=nb_epoch, verbose=1, validation_data=(X_test, Y_test))"
      ],
      "execution_count": 373,
      "outputs": [
        {
          "output_type": "stream",
          "text": [
            "60000/60000 [==============================] - 63s 1ms/sample - loss: 0.1074 - acc: 0.9665 - val_loss: 0.0740 - val_acc: 0.9765\n",
            "60000/60000 [==============================] - 63s 1ms/sample - loss: 0.1074 - acc: 0.9665 - val_loss: 0.0740 - val_acc: 0.9765\n",
            "Epoch 6/25\n",
            "   32/60000 [..............................] - ETA: 59s - loss: 0.1072 - acc: 0.9375Epoch 6/25\n",
            "60000/60000 [==============================] - 63s 1ms/sample - loss: 0.1034 - acc: 0.9681 - val_loss: 0.0669 - val_acc: 0.9789\n",
            "60000/60000 [==============================] - 63s 1ms/sample - loss: 0.1034 - acc: 0.9681 - val_loss: 0.0669 - val_acc: 0.9789\n",
            "Epoch 7/25\n",
            "   32/60000 [..............................] - ETA: 1:08 - loss: 0.2467 - acc: 0.9062Epoch 7/25\n",
            "60000/60000 [==============================] - 62s 1ms/sample - loss: 0.0994 - acc: 0.9690 - val_loss: 0.0740 - val_acc: 0.9766\n",
            "60000/60000 [==============================] - 62s 1ms/sample - loss: 0.0994 - acc: 0.9690 - val_loss: 0.0740 - val_acc: 0.9766\n",
            "Epoch 8/25\n",
            "   32/60000 [..............................] - ETA: 58s - loss: 0.1889 - acc: 0.9375Epoch 8/25\n",
            "60000/60000 [==============================] - 63s 1ms/sample - loss: 0.0946 - acc: 0.9700 - val_loss: 0.0664 - val_acc: 0.9794\n",
            "60000/60000 [==============================] - 63s 1ms/sample - loss: 0.0946 - acc: 0.9700 - val_loss: 0.0664 - val_acc: 0.9794\n",
            "Epoch 9/25\n",
            "   32/60000 [..............................] - ETA: 1:05 - loss: 0.1258 - acc: 0.9062Epoch 9/25\n",
            "60000/60000 [==============================] - 62s 1ms/sample - loss: 0.0916 - acc: 0.9709 - val_loss: 0.0546 - val_acc: 0.9830\n",
            "60000/60000 [==============================] - 62s 1ms/sample - loss: 0.0916 - acc: 0.9709 - val_loss: 0.0546 - val_acc: 0.9830\n",
            "Epoch 10/25\n",
            "   32/60000 [..............................] - ETA: 1:02 - loss: 0.0993 - acc: 0.9688Epoch 10/25\n",
            "60000/60000 [==============================] - 62s 1ms/sample - loss: 0.0881 - acc: 0.9722 - val_loss: 0.0557 - val_acc: 0.9817\n",
            "60000/60000 [==============================] - 62s 1ms/sample - loss: 0.0881 - acc: 0.9722 - val_loss: 0.0557 - val_acc: 0.9817\n",
            "Epoch 11/25\n",
            "   32/60000 [..............................] - ETA: 58s - loss: 0.1118 - acc: 0.9688Epoch 11/25\n",
            "60000/60000 [==============================] - 63s 1ms/sample - loss: 0.0865 - acc: 0.9730 - val_loss: 0.0554 - val_acc: 0.9829\n",
            "60000/60000 [==============================] - 63s 1ms/sample - loss: 0.0865 - acc: 0.9730 - val_loss: 0.0554 - val_acc: 0.9829\n",
            "Epoch 12/25\n",
            "   32/60000 [..............................] - ETA: 1:08 - loss: 0.1791 - acc: 0.9062Epoch 12/25\n",
            "60000/60000 [==============================] - 63s 1ms/sample - loss: 0.0863 - acc: 0.9726 - val_loss: 0.0588 - val_acc: 0.9808\n",
            "60000/60000 [==============================] - 63s 1ms/sample - loss: 0.0863 - acc: 0.9726 - val_loss: 0.0588 - val_acc: 0.9808\n",
            "Epoch 13/25\n",
            "   32/60000 [..............................] - ETA: 1:02 - loss: 0.0236 - acc: 1.0000Epoch 13/25\n",
            "60000/60000 [==============================] - 63s 1ms/sample - loss: 0.0840 - acc: 0.9736 - val_loss: 0.0536 - val_acc: 0.9830\n",
            "60000/60000 [==============================] - 63s 1ms/sample - loss: 0.0840 - acc: 0.9736 - val_loss: 0.0536 - val_acc: 0.9830\n",
            "Epoch 14/25\n",
            "   32/60000 [..............................] - ETA: 1:03 - loss: 0.0634 - acc: 1.0000Epoch 14/25\n",
            "60000/60000 [==============================] - 64s 1ms/sample - loss: 0.0820 - acc: 0.9738 - val_loss: 0.0539 - val_acc: 0.9826\n",
            "60000/60000 [==============================] - 64s 1ms/sample - loss: 0.0820 - acc: 0.9738 - val_loss: 0.0539 - val_acc: 0.9826\n",
            "Epoch 15/25\n",
            "   32/60000 [..............................] - ETA: 1:04 - loss: 0.0592 - acc: 1.0000Epoch 15/25\n",
            "60000/60000 [==============================] - 63s 1ms/sample - loss: 0.0797 - acc: 0.9756 - val_loss: 0.0554 - val_acc: 0.9829\n",
            "60000/60000 [==============================] - 63s 1ms/sample - loss: 0.0797 - acc: 0.9756 - val_loss: 0.0554 - val_acc: 0.9829\n",
            "Epoch 16/25\n",
            "   32/60000 [..............................] - ETA: 1:01 - loss: 0.0862 - acc: 0.9688Epoch 16/25\n",
            "60000/60000 [==============================] - 62s 1ms/sample - loss: 0.0810 - acc: 0.9740 - val_loss: 0.0564 - val_acc: 0.9818\n",
            "60000/60000 [==============================] - 62s 1ms/sample - loss: 0.0810 - acc: 0.9740 - val_loss: 0.0564 - val_acc: 0.9818\n",
            "Epoch 17/25\n",
            "   32/60000 [..............................] - ETA: 58s - loss: 0.1962 - acc: 0.9688Epoch 17/25\n",
            "60000/60000 [==============================] - 63s 1ms/sample - loss: 0.0752 - acc: 0.9759 - val_loss: 0.0529 - val_acc: 0.9830\n",
            "60000/60000 [==============================] - 63s 1ms/sample - loss: 0.0752 - acc: 0.9759 - val_loss: 0.0529 - val_acc: 0.9830\n",
            "Epoch 18/25\n",
            "   32/60000 [..............................] - ETA: 58s - loss: 0.0817 - acc: 0.9375Epoch 18/25\n",
            "60000/60000 [==============================] - 62s 1ms/sample - loss: 0.0789 - acc: 0.9751 - val_loss: 0.0532 - val_acc: 0.9833\n",
            "60000/60000 [==============================] - 62s 1ms/sample - loss: 0.0789 - acc: 0.9751 - val_loss: 0.0532 - val_acc: 0.9833\n",
            "Epoch 19/25\n",
            "   32/60000 [..............................] - ETA: 1:01 - loss: 0.0387 - acc: 0.9688Epoch 19/25\n",
            "60000/60000 [==============================] - 63s 1ms/sample - loss: 0.0729 - acc: 0.9771 - val_loss: 0.0575 - val_acc: 0.9821\n",
            "60000/60000 [==============================] - 63s 1ms/sample - loss: 0.0729 - acc: 0.9771 - val_loss: 0.0575 - val_acc: 0.9821\n",
            "Epoch 20/25\n",
            "   32/60000 [..............................] - ETA: 1:04 - loss: 0.1777 - acc: 0.9688Epoch 20/25\n",
            "60000/60000 [==============================] - 63s 1ms/sample - loss: 0.0734 - acc: 0.9767 - val_loss: 0.0528 - val_acc: 0.9830\n",
            "60000/60000 [==============================] - 63s 1ms/sample - loss: 0.0734 - acc: 0.9767 - val_loss: 0.0528 - val_acc: 0.9830\n",
            "Epoch 21/25\n",
            "   32/60000 [..............................] - ETA: 1:01 - loss: 0.1752 - acc: 0.9375Epoch 21/25\n",
            "60000/60000 [==============================] - 63s 1ms/sample - loss: 0.0734 - acc: 0.9766 - val_loss: 0.0535 - val_acc: 0.9836\n",
            "60000/60000 [==============================] - 63s 1ms/sample - loss: 0.0734 - acc: 0.9766 - val_loss: 0.0535 - val_acc: 0.9836\n",
            "Epoch 22/25\n",
            "   32/60000 [..............................] - ETA: 1:01 - loss: 0.0196 - acc: 1.0000Epoch 22/25\n",
            "60000/60000 [==============================] - 63s 1ms/sample - loss: 0.0728 - acc: 0.9768 - val_loss: 0.0498 - val_acc: 0.9849\n",
            "60000/60000 [==============================] - 63s 1ms/sample - loss: 0.0728 - acc: 0.9768 - val_loss: 0.0498 - val_acc: 0.9849\n",
            "Epoch 23/25\n",
            "   32/60000 [..............................] - ETA: 58s - loss: 0.0825 - acc: 0.9375Epoch 23/25\n",
            "60000/60000 [==============================] - 62s 1ms/sample - loss: 0.0735 - acc: 0.9769 - val_loss: 0.0504 - val_acc: 0.9838\n",
            "60000/60000 [==============================] - 62s 1ms/sample - loss: 0.0735 - acc: 0.9769 - val_loss: 0.0504 - val_acc: 0.9838\n",
            "Epoch 24/25\n",
            "   32/60000 [..............................] - ETA: 59s - loss: 0.0030 - acc: 1.0000Epoch 24/25\n",
            "60000/60000 [==============================] - 61s 1ms/sample - loss: 0.0735 - acc: 0.9763 - val_loss: 0.0503 - val_acc: 0.9838\n",
            "60000/60000 [==============================] - 61s 1ms/sample - loss: 0.0735 - acc: 0.9763 - val_loss: 0.0503 - val_acc: 0.9838\n",
            "Epoch 25/25\n",
            "   32/60000 [..............................] - ETA: 59s - loss: 0.0409 - acc: 0.9688Epoch 25/25\n",
            "60000/60000 [==============================] - 70s 1ms/sample - loss: 0.0709 - acc: 0.9778 - val_loss: 0.0508 - val_acc: 0.9841\n",
            "60000/60000 [==============================] - 70s 1ms/sample - loss: 0.0709 - acc: 0.9778 - val_loss: 0.0508 - val_acc: 0.9841\n"
          ],
          "name": "stdout"
        }
      ]
    },
    {
      "cell_type": "code",
      "metadata": {
        "id": "MKGffMs_PRrS",
        "colab_type": "code",
        "colab": {
          "base_uri": "https://localhost:8080/",
          "height": 54
        },
        "outputId": "ca865935-1ac0-4411-dbba-8df40c269aa0"
      },
      "source": [
        "print(history.history.keys())"
      ],
      "execution_count": 374,
      "outputs": [
        {
          "output_type": "stream",
          "text": [
            "dict_keys(['loss', 'acc', 'val_loss', 'val_acc'])\n",
            "dict_keys(['loss', 'acc', 'val_loss', 'val_acc'])\n"
          ],
          "name": "stdout"
        }
      ]
    },
    {
      "cell_type": "markdown",
      "metadata": {
        "id": "mq2EnFg2dLLH",
        "colab_type": "text"
      },
      "source": [
        "\n",
        "\n",
        "```\n",
        "# Evaluating the model\n",
        "```\n",
        "\n"
      ]
    },
    {
      "cell_type": "code",
      "metadata": {
        "id": "9by-OY5adOyL",
        "colab_type": "code",
        "colab": {}
      },
      "source": [
        "scores = model.evaluate(X_test, Y_test, verbose=0)"
      ],
      "execution_count": 0,
      "outputs": []
    },
    {
      "cell_type": "markdown",
      "metadata": {
        "id": "vbQ1p7WWcs7A",
        "colab_type": "text"
      },
      "source": [
        "\n",
        "\n",
        "```\n",
        "# Plotting train and test accuracy\n",
        "```\n",
        "\n"
      ]
    },
    {
      "cell_type": "code",
      "metadata": {
        "id": "lmh_hqyYGmB4",
        "colab_type": "code",
        "colab": {
          "base_uri": "https://localhost:8080/",
          "height": 295
        },
        "outputId": "3461b285-a427-4583-b341-7edce6d2b239"
      },
      "source": [
        "plt.plot(history.history[\"acc\"])\n",
        "plt.plot(history.history[\"val_acc\"])\n",
        "plt.title(\"Model Accuracy\")\n",
        "plt.xlabel(\"Epoch\")\n",
        "plt.ylabel(\"Accuracy\")\n",
        "plt.legend([\"train\", \"test\"], loc=\"upper left\")\n",
        "plt.show()"
      ],
      "execution_count": 379,
      "outputs": [
        {
          "output_type": "display_data",
          "data": {
            "image/png": "[encoded data removed]",
            "text/plain": [
              "<Figure size 432x288 with 1 Axes>"
            ]
          },
          "metadata": {
            "tags": []
          }
        }
      ]
    },
    {
      "cell_type": "markdown",
      "metadata": {
        "id": "vgLTsw5PdG5P",
        "colab_type": "text"
      },
      "source": [
        "\n",
        "\n",
        "```\n",
        "# Plotting train and test loss\n",
        "```\n",
        "\n"
      ]
    },
    {
      "cell_type": "code",
      "metadata": {
        "id": "9sxQkM21GuXt",
        "colab_type": "code",
        "colab": {
          "base_uri": "https://localhost:8080/",
          "height": 295
        },
        "outputId": "61170641-b0d4-499e-fafa-0e398d43a846"
      },
      "source": [
        "plt.plot(history.history[\"loss\"])\n",
        "plt.plot(history.history[\"val_loss\"])\n",
        "plt.title(\"Model Loss\")\n",
        "plt.xlabel(\"Epoch\")\n",
        "plt.ylabel(\"Loss\")\n",
        "plt.legend([\"train\", \"test\"], loc=\"upper left\")\n",
        "plt.show()"
      ],
      "execution_count": 380,
      "outputs": [
        {
          "output_type": "display_data",
          "data": {
            "image/png": "[encoded data removed]",
            "text/plain": [
              "<Figure size 432x288 with 1 Axes>"
            ]
          },
          "metadata": {
            "tags": []
          }
        }
      ]
    },
    {
      "cell_type": "markdown",
      "metadata": {
        "id": "aoq8zRKGdTyb",
        "colab_type": "text"
      },
      "source": [
        "\n",
        "\n",
        "```\n",
        "# Printing the results\n",
        "```\n",
        "\n"
      ]
    },
    {
      "cell_type": "code",
      "metadata": {
        "id": "P46xi1ENdYvZ",
        "colab_type": "code",
        "outputId": "c06caee0-ee85-466f-b122-dc4db8ecc4e2",
        "colab": {
          "base_uri": "https://localhost:8080/",
          "height": 54
        }
      },
      "source": [
        "print('Test score:', scores[0])\n",
        "print('Test accuracy:', scores[1])"
      ],
      "execution_count": 381,
      "outputs": [
        {
          "output_type": "stream",
          "text": [
            "Test score: 0.05081732467196416\n",
            "Test accuracy: 0.9841\n"
          ],
          "name": "stdout"
        }
      ]
    }
  ]
}